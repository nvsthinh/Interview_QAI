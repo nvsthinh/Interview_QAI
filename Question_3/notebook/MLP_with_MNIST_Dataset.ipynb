{
  "nbformat": 4,
  "nbformat_minor": 0,
  "metadata": {
    "colab": {
      "provenance": []
    },
    "kernelspec": {
      "name": "python3",
      "display_name": "Python 3"
    },
    "language_info": {
      "name": "python"
    }
  },
  "cells": [
    {
      "cell_type": "markdown",
      "source": [
        "# MLP with MNIST Dataset with Triplet Loss"
      ],
      "metadata": {
        "id": "T2QtC2TmcIE9"
      }
    },
    {
      "cell_type": "markdown",
      "source": [
        "## 1. Import Library"
      ],
      "metadata": {
        "id": "OlQQOg_aocWK"
      }
    },
    {
      "cell_type": "code",
      "source": [
        "import numpy as np\n",
        "from sklearn.datasets import fetch_openml\n",
        "from sklearn.model_selection import train_test_split"
      ],
      "metadata": {
        "id": "UWQpnfm8obmr"
      },
      "execution_count": 1,
      "outputs": []
    },
    {
      "cell_type": "markdown",
      "source": [
        "## 2. Load MNIST Dataset"
      ],
      "metadata": {
        "id": "jGj5v2Pjod4c"
      }
    },
    {
      "cell_type": "code",
      "execution_count": 2,
      "metadata": {
        "id": "SIvrY8xBk6xK"
      },
      "outputs": [],
      "source": [
        "# Load MNIST dataset\n",
        "mnist = fetch_openml('mnist_784', version=1, parser='auto')\n",
        "X = mnist['data'].values\n",
        "y = mnist['target'].astype(np.int32).values\n",
        "\n",
        "# Normalize the data\n",
        "X = X / 255.0\n",
        "\n",
        "# Split into training and test sets\n",
        "X_train, X_test, y_train, y_test = train_test_split(X, y, test_size=0.2, random_state=42)"
      ]
    },
    {
      "cell_type": "markdown",
      "source": [
        "### 2.1. Show Image"
      ],
      "metadata": {
        "id": "FkorCkF3B9u1"
      }
    },
    {
      "cell_type": "code",
      "source": [
        "import matplotlib.pyplot as plt\n",
        "image = X_test[0].reshape((28, 28))\n",
        "plt.imshow(image, cmap='gray')\n",
        "plt.show()"
      ],
      "metadata": {
        "colab": {
          "base_uri": "https://localhost:8080/",
          "height": 430
        },
        "id": "my2-9WMDA-Ns",
        "outputId": "1fccbb21-011e-421c-88e9-fe67cc31d519"
      },
      "execution_count": 3,
      "outputs": [
        {
          "output_type": "display_data",
          "data": {
            "text/plain": [
              "<Figure size 640x480 with 1 Axes>"
            ],
            "image/png": "[encoded data removed]"
          },
          "metadata": {}
        }
      ]
    },
    {
      "cell_type": "code",
      "source": [
        "y_test[0]"
      ],
      "metadata": {
        "colab": {
          "base_uri": "https://localhost:8080/"
        },
        "id": "Jqd0NVeVBCJD",
        "outputId": "c31daa89-a21f-4da7-8ae7-51ea9e7f3d78"
      },
      "execution_count": 4,
      "outputs": [
        {
          "output_type": "execute_result",
          "data": {
            "text/plain": [
              "8"
            ]
          },
          "metadata": {},
          "execution_count": 4
        }
      ]
    },
    {
      "cell_type": "markdown",
      "source": [
        "## 3. MLP Model"
      ],
      "metadata": {
        "id": "sQKfzPaeogmm"
      }
    },
    {
      "cell_type": "markdown",
      "source": [
        "### 3.1. Utils"
      ],
      "metadata": {
        "id": "_MAp8ZWPohm7"
      }
    },
    {
      "cell_type": "code",
      "source": [
        "def triplet_loss(anchor, positive, negative, margin=1.0):\n",
        "    \"\"\"\n",
        "    Computes the Triplet Loss for multiple anchors, positives, and negatives.\n",
        "\n",
        "    Parameters:\n",
        "    - anchor: np.ndarray, feature vector of the anchors.\n",
        "    - positive: np.ndarray, feature vector of the positive.\n",
        "    - negative: np.ndarray, feature vector of the negative.\n",
        "    - margin: float, margin for calculating the loss.\n",
        "\n",
        "    Returns:\n",
        "    - total_loss: float, the value of the triplet loss.\n",
        "    \"\"\"\n",
        "    # Compute the squared distance between the anchor and the positive example\n",
        "    pos_dist = np.sum(np.square(anchor - positive), axis=-1)\n",
        "\n",
        "    # Compute the squared distance between the anchor and the negative example\n",
        "    neg_dist = np.sum(np.square(anchor - negative), axis=-1)\n",
        "\n",
        "    # Compute the Triplet Loss\n",
        "    loss = np.maximum(0, pos_dist - neg_dist + margin)\n",
        "\n",
        "    return loss\n",
        "\n",
        "def load_data():\n",
        "    # Load MNIST dataset\n",
        "    mnist = fetch_openml('mnist_784', version=1, parser='auto')\n",
        "    X = mnist['data'].values\n",
        "    y = mnist['target'].astype(np.int32).values\n",
        "\n",
        "    # Normalize the data\n",
        "    X = X / 255.0\n",
        "\n",
        "    # Binarize the labels\n",
        "    y = (y == 0).astype(np.int32)\n",
        "\n",
        "    # Split into training and test sets\n",
        "    X_train, X_test, y_train, y_test = train_test_split(X, y, test_size=0.2, random_state=42)\n",
        "\n",
        "    # Ensure the data is in the right shape for MLP (N, D) where N is number of samples, D is number of features\n",
        "    X_train = X_train.reshape(X_train.shape[0], -1)\n",
        "    X_test = X_test.reshape(X_test.shape[0], -1)\n",
        "\n",
        "    return X_train, X_test, y_train, y_test\n",
        "\n",
        "def create_triplets(X, y, batch_size):\n",
        "    \"\"\"\n",
        "    Create triplets (anchor, positive, negative) for training.\n",
        "\n",
        "    Parameters:\n",
        "    - X: np.ndarray, feature vectors of the samples\n",
        "    - y: np.ndarray, labels of the samples\n",
        "    - batch_size: int, number of triplets in the batch\n",
        "\n",
        "    Returns:\n",
        "    - anchor: np.ndarray, anchor samples\n",
        "    - positive: np.ndarray, positive samples\n",
        "    - negative: np.ndarray, negative samples\n",
        "    \"\"\"\n",
        "    anchor, positive, negative = [], [], []\n",
        "    for _ in range(batch_size):\n",
        "        # Select anchor sample\n",
        "        idx = np.random.randint(0, len(X))\n",
        "        anchor.append(X[idx])\n",
        "\n",
        "        # Select positive sample (different sample of the same class)\n",
        "        pos_idxs = np.where(y == y[idx])[0]\n",
        "        pos_idx = np.random.choice(pos_idxs[pos_idxs != idx])\n",
        "        positive.append(X[pos_idx])\n",
        "\n",
        "        # Select negative sample (sample of a different class)\n",
        "        neg_idxs = np.where(y != y[idx])[0]\n",
        "        neg_idx = np.random.choice(neg_idxs)\n",
        "        negative.append(X[neg_idx])\n",
        "\n",
        "    return np.array(anchor), np.array(positive), np.array(negative)\n",
        "\n",
        "def extract_label_features(model, X_train, y_train):\n",
        "    # Extract one sample for each label\n",
        "    unique_labels = np.unique(y_train)\n",
        "    label_samples = {label: X_train[np.where(y_train == label)[0][0]] for label in unique_labels}\n",
        "\n",
        "    # Extract features for each label sample\n",
        "    label_features = {label: model.forward(sample) for label, sample in label_samples.items()}\n",
        "\n",
        "    # Store the features in a list\n",
        "    label_features_list = [label_features[label] for label in unique_labels]\n",
        "\n",
        "    return label_features_list, unique_labels\n",
        "\n",
        "def cosine_similarity(v1, v2):\n",
        "    \"\"\"\n",
        "    Compute the cosine similarity between two vectors.\n",
        "\n",
        "    Parameters:\n",
        "    - v1: np.ndarray, first vector\n",
        "    - v2: np.ndarray, second vector\n",
        "\n",
        "    Returns:\n",
        "    - similarity: float, cosine similarity score\n",
        "    \"\"\"\n",
        "    dot_product = np.dot(v1, v2.T)\n",
        "    norm_v1 = np.linalg.norm(v1)\n",
        "    norm_v2 = np.linalg.norm(v2)\n",
        "    similarity = dot_product / (norm_v1 * norm_v2)\n",
        "    return similarity"
      ],
      "metadata": {
        "id": "LDzBzsX0mW2l"
      },
      "execution_count": 5,
      "outputs": []
    },
    {
      "cell_type": "markdown",
      "source": [
        "### 3.2. Architecture"
      ],
      "metadata": {
        "id": "M3gl2JMcojU-"
      }
    },
    {
      "cell_type": "code",
      "source": [
        "import numpy as np\n",
        "\n",
        "class MLP:\n",
        "    def __init__(self, input_size, hidden_size, output_size):\n",
        "        self.W1 = np.random.randn(input_size, hidden_size) * 0.01\n",
        "        self.b1 = np.zeros((1, hidden_size))\n",
        "        self.W2 = np.random.randn(hidden_size, output_size) * 0.01\n",
        "        self.b2 = np.zeros((1, output_size))\n",
        "\n",
        "    def relu(self, z):\n",
        "        return np.maximum(0, z)\n",
        "\n",
        "    def forward(self, X):\n",
        "        self.z1 = np.dot(X, self.W1) + self.b1\n",
        "        self.a1 = self.relu(self.z1)\n",
        "        self.z2 = np.dot(self.a1, self.W2) + self.b2\n",
        "        return self.z2\n",
        "\n",
        "    def compute_loss(self, anchor, positive, negative, alpha=0.2):\n",
        "        anchor_output = self.forward(anchor)\n",
        "        positive_output = self.forward(positive)\n",
        "        negative_output = self.forward(negative)\n",
        "\n",
        "        # Ensure there are no NaN values in outputs\n",
        "        if np.isnan(anchor_output).any() or np.isnan(positive_output).any() or np.isnan(negative_output).any():\n",
        "            print(\"NaN detected in forward pass outputs\")\n",
        "\n",
        "        loss = triplet_loss(anchor_output, positive_output, negative_output, alpha)\n",
        "        return loss\n",
        "\n",
        "    def backward(self, anchor, positive, negative, alpha=0.2, learning_rate=0.01):\n",
        "        # Forward pass\n",
        "        anchor_output = self.forward(anchor)\n",
        "        positive_output = self.forward(positive)\n",
        "        negative_output = self.forward(negative)\n",
        "\n",
        "        # Calculate gradients (simple backpropagation)\n",
        "        pos_dist = 2 * (anchor_output - positive_output)\n",
        "        neg_dist = 2 * (anchor_output - negative_output)\n",
        "\n",
        "        dloss_da = pos_dist - neg_dist\n",
        "        dloss_dp = -pos_dist\n",
        "        dloss_dn = neg_dist\n",
        "\n",
        "        # Ensure there are no NaN values in gradients\n",
        "        if np.isnan(dloss_da).any() or np.isnan(dloss_dp).any() or np.isnan(dloss_dn).any():\n",
        "            print(\"NaN detected in gradients\")\n",
        "\n",
        "        # Update weights and biases (simplified gradient descent)\n",
        "        self.W2 -= learning_rate * np.dot(self.a1.T, dloss_da)\n",
        "        self.b2 -= learning_rate * np.sum(dloss_da, axis=0, keepdims=True)\n",
        "\n",
        "        dW1_a = np.dot(anchor.T, np.dot(dloss_da, self.W2.T) * (self.z1 > 0))\n",
        "        db1_a = np.sum(np.dot(dloss_da, self.W2.T) * (self.z1 > 0), axis=0, keepdims=True)\n",
        "\n",
        "        dW1_p = np.dot(positive.T, np.dot(dloss_dp, self.W2.T) * (self.z1 > 0))\n",
        "        db1_p = np.sum(np.dot(dloss_dp, self.W2.T) * (self.z1 > 0), axis=0, keepdims=True)\n",
        "\n",
        "        dW1_n = np.dot(negative.T, np.dot(dloss_dn, self.W2.T) * (self.z1 > 0))\n",
        "        db1_n = np.sum(np.dot(dloss_dn, self.W2.T) * (self.z1 > 0), axis=0, keepdims=True)\n",
        "\n",
        "        self.W1 -= learning_rate * (dW1_a + dW1_p + dW1_n)\n",
        "        self.b1 -= learning_rate * (db1_a + db1_p + db1_n)"
      ],
      "metadata": {
        "id": "xahwO4Ink_lT"
      },
      "execution_count": 6,
      "outputs": []
    },
    {
      "cell_type": "markdown",
      "source": [
        "## 4. Train"
      ],
      "metadata": {
        "id": "WiTV68zeolXi"
      }
    },
    {
      "cell_type": "code",
      "source": [
        "input_size = 28 * 28\n",
        "hidden_size = 128\n",
        "output_size = 64\n",
        "model = MLP(input_size, hidden_size, output_size)"
      ],
      "metadata": {
        "id": "_ll56XFAnpFl"
      },
      "execution_count": 7,
      "outputs": []
    },
    {
      "cell_type": "code",
      "source": [
        "learning_rate = 0.01\n",
        "num_epochs = 10\n",
        "batch_size = 32"
      ],
      "metadata": {
        "id": "8U3DGQzWnk-o"
      },
      "execution_count": 8,
      "outputs": []
    },
    {
      "cell_type": "code",
      "source": [
        "# Training loop\n",
        "for epoch in range(num_epochs):\n",
        "    epoch_loss = 0\n",
        "    num_batches = len(X_train) // batch_size\n",
        "\n",
        "    for _ in range(num_batches):\n",
        "        # Create triplet batches\n",
        "        anchor, positive, negative = create_triplets(X_train, y_train, batch_size)\n",
        "\n",
        "        # Compute loss\n",
        "        loss = model.compute_loss(anchor, positive, negative)\n",
        "        epoch_loss += np.sum(loss)\n",
        "\n",
        "        # Backward pass and update weights\n",
        "        model.backward(anchor, positive, negative, learning_rate)\n",
        "\n",
        "    avg_loss = epoch_loss / num_batches\n",
        "    print(f\"Epoch {epoch+1}/{num_epochs}, Loss: {avg_loss:.4f}\")\n",
        "\n",
        "print(\"Training completed.\")"
      ],
      "metadata": {
        "colab": {
          "base_uri": "https://localhost:8080/"
        },
        "id": "XGTJkYdZniJV",
        "outputId": "26fedd3f-b1fc-43d2-86ed-1f8dff1c73da"
      },
      "execution_count": 9,
      "outputs": [
        {
          "output_type": "stream",
          "name": "stdout",
          "text": [
            "Epoch 1/10, Loss: 6.3979\n",
            "Epoch 2/10, Loss: 6.4000\n",
            "Epoch 3/10, Loss: 6.4000\n",
            "Epoch 4/10, Loss: 6.4000\n",
            "Epoch 5/10, Loss: 6.4000\n",
            "Epoch 6/10, Loss: 6.4000\n",
            "Epoch 7/10, Loss: 6.4000\n",
            "Epoch 8/10, Loss: 6.4000\n",
            "Epoch 9/10, Loss: 6.4000\n",
            "Epoch 10/10, Loss: 6.4000\n",
            "Training completed.\n"
          ]
        }
      ]
    },
    {
      "cell_type": "markdown",
      "source": [
        "## 5. Inference & Evaluate"
      ],
      "metadata": {
        "id": "wY_sfHaAonbW"
      }
    },
    {
      "cell_type": "code",
      "source": [
        "def inference(model, input):\n",
        "    # Load the data\n",
        "    X_train, X_test, y_train, y_test = load_data()\n",
        "    label_features_list, unique_labels = extract_label_features(model, X_train, y_train)\n",
        "\n",
        "    # Extract features from the input sample\n",
        "    input_features = model.forward(input)\n",
        "\n",
        "    # Calculate similarity scores with each label feature\n",
        "    similarities = [cosine_similarity(input_features, label_feature) for label_feature in label_features_list]\n",
        "\n",
        "    # Find the label with the highest similarity score\n",
        "    predicted_label = unique_labels[np.argmax(similarities)]\n",
        "\n",
        "    return predicted_label"
      ],
      "metadata": {
        "id": "hKmQNMnuWzEt"
      },
      "execution_count": 27,
      "outputs": []
    },
    {
      "cell_type": "code",
      "source": [
        "input_sample = X_test[0]  # Example input sample from test set\n",
        "predicted_label = inference(model, input_sample)\n",
        "print(f\"Predicted Label: {predicted_label}, True Label: {y_test[0]}\")"
      ],
      "metadata": {
        "colab": {
          "base_uri": "https://localhost:8080/"
        },
        "id": "XAmtu-sBbvok",
        "outputId": "18cb30aa-cbe5-4e8f-ff57-836346a19d4e"
      },
      "execution_count": 28,
      "outputs": [
        {
          "output_type": "stream",
          "name": "stdout",
          "text": [
            "Predicted Label: 1, True Label: 8\n"
          ]
        }
      ]
    }
  ]
}