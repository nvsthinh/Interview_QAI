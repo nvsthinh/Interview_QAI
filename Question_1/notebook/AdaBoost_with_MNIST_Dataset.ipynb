{
  "nbformat": 4,
  "nbformat_minor": 0,
  "metadata": {
    "colab": {
      "provenance": []
    },
    "kernelspec": {
      "name": "python3",
      "display_name": "Python 3"
    },
    "language_info": {
      "name": "python"
    }
  },
  "cells": [
    {
      "cell_type": "markdown",
      "source": [
        "# AdaBoost with MNIST Dataset"
      ],
      "metadata": {
        "id": "7_i7Zw_srb0D"
      }
    },
    {
      "cell_type": "markdown",
      "source": [
        "## 1. Import Library"
      ],
      "metadata": {
        "id": "VS_NrThbiKz2"
      }
    },
    {
      "cell_type": "code",
      "source": [
        "import numpy as np\n",
        "from sklearn.datasets import fetch_openml\n",
        "from sklearn.model_selection import train_test_split\n",
        "from sklearn.metrics import accuracy_score"
      ],
      "metadata": {
        "id": "eQVe3jOMiNRd"
      },
      "execution_count": 1,
      "outputs": []
    },
    {
      "cell_type": "markdown",
      "source": [
        "## 2. Load MNIST dataset"
      ],
      "metadata": {
        "id": "5VTlKCgoiOdg"
      }
    },
    {
      "cell_type": "code",
      "execution_count": 2,
      "metadata": {
        "id": "Q-Gz8DfHaVGE"
      },
      "outputs": [],
      "source": [
        "# Load MNIST dataset\n",
        "mnist = fetch_openml('mnist_784', version=1, parser=\"auto\")\n",
        "X = mnist['data'].values\n",
        "y = mnist['target'].astype(np.int32).values\n",
        "\n",
        "# Binarize the labels (convert to binary classification for simplicity)\n",
        "y = (y == 0).astype(np.int32)  # Let's classify '0' vs 'not 0'\n",
        "\n",
        "# Split into training and test sets\n",
        "X_train, X_test, y_train, y_test = train_test_split(X, y, test_size=0.2, random_state=42)"
      ]
    },
    {
      "cell_type": "code",
      "source": [
        "# Test with 100 training samples and 10 testing samples\n",
        "X_train = X_train[:100]\n",
        "X_test = X_test[:10]\n",
        "y_train = y_train[:100]\n",
        "y_test = y_test[:10]"
      ],
      "metadata": {
        "id": "OlFbxMzehCsp"
      },
      "execution_count": 3,
      "outputs": []
    },
    {
      "cell_type": "markdown",
      "source": [
        "## 3. AdaBoost Model"
      ],
      "metadata": {
        "id": "U2dP918FiV4-"
      }
    },
    {
      "cell_type": "code",
      "source": [
        "class DecisionStump:\n",
        "    def __init__(self):\n",
        "        self.polarity = 1\n",
        "        self.feature_index = None\n",
        "        self.threshold = None\n",
        "        self.alpha = None\n",
        "\n",
        "    def predict(self, X):\n",
        "        n_samples = X.shape[0]\n",
        "        X_column = X[:, self.feature_index]\n",
        "        predictions = np.ones(n_samples)\n",
        "        if self.polarity == 1:\n",
        "            predictions[X_column < self.threshold] = -1\n",
        "        else:\n",
        "            predictions[X_column > self.threshold] = -1\n",
        "        return predictions\n",
        "\n",
        "class AdaBoost:\n",
        "    def __init__(self, n_clf=5):\n",
        "        self.n_clf = n_clf\n",
        "\n",
        "    def fit(self, X, y):\n",
        "        n_samples, n_features = X.shape\n",
        "        y = np.where(y == 0, -1, 1)\n",
        "\n",
        "        # Initialize weights\n",
        "        w = np.full(n_samples, (1 / n_samples))\n",
        "\n",
        "        self.clfs = []\n",
        "\n",
        "        for _ in range(self.n_clf):\n",
        "            clf = DecisionStump()\n",
        "            min_error = float('inf')\n",
        "\n",
        "            # Loop over all features\n",
        "            for feature_i in range(n_features):\n",
        "                X_column = X[:, feature_i]\n",
        "                thresholds = np.unique(X_column)\n",
        "\n",
        "                for threshold in thresholds:\n",
        "                    p = 1\n",
        "                    predictions = np.ones(n_samples)\n",
        "                    predictions[X_column < threshold] = -1\n",
        "\n",
        "                    # Calculate error\n",
        "                    error = np.sum(w * (predictions != y))\n",
        "\n",
        "                    # If the error is greater than 50%, flip the polarity\n",
        "                    if error > 0.5:\n",
        "                        error = 1 - error\n",
        "                        p = -1\n",
        "\n",
        "                    # Store the best stump\n",
        "                    if error < min_error:\n",
        "                        clf.polarity = p\n",
        "                        clf.threshold = threshold\n",
        "                        clf.feature_index = feature_i\n",
        "                        min_error = error\n",
        "\n",
        "            # Calculate alpha\n",
        "            clf.alpha = 0.5 * np.log((1 - min_error) / (min_error + 1e-10))\n",
        "\n",
        "            # Update weights\n",
        "            predictions = clf.predict(X)\n",
        "            w *= np.exp(-clf.alpha * y * predictions)\n",
        "            w /= np.sum(w)\n",
        "\n",
        "            self.clfs.append(clf)\n",
        "\n",
        "    def predict(self, X):\n",
        "        clf_preds = np.zeros(X.shape[0])\n",
        "        for clf in self.clfs:\n",
        "            clf_preds += clf.alpha * clf.predict(X)\n",
        "        y_pred = np.sign(clf_preds)\n",
        "        return np.where(y_pred == -1, 0, 1)"
      ],
      "metadata": {
        "id": "STd8_uVVaXWu"
      },
      "execution_count": 4,
      "outputs": []
    },
    {
      "cell_type": "markdown",
      "source": [
        "## 4. Inference & Evaluate"
      ],
      "metadata": {
        "id": "zgqFvm77iYTq"
      }
    },
    {
      "cell_type": "code",
      "source": [
        "# Train and evaluate the AdaBoost classifier\n",
        "model = AdaBoost(n_clf=10)\n",
        "model.fit(X_train, y_train)\n",
        "y_pred = model.predict(X_test)\n",
        "\n",
        "print(f\"Accuracy: {accuracy_score(y_test, y_pred)}\")"
      ],
      "metadata": {
        "colab": {
          "base_uri": "https://localhost:8080/"
        },
        "id": "EQvjh-atibIU",
        "outputId": "c15c6ab4-2aff-4985-ff0a-378003fc3eb5"
      },
      "execution_count": 5,
      "outputs": [
        {
          "output_type": "stream",
          "name": "stdout",
          "text": [
            "Accuracy: 1.0\n"
          ]
        }
      ]
    }
  ]
}