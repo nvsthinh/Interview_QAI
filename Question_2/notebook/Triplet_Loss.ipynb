{
  "nbformat": 4,
  "nbformat_minor": 0,
  "metadata": {
    "colab": {
      "provenance": []
    },
    "kernelspec": {
      "name": "python3",
      "display_name": "Python 3"
    },
    "language_info": {
      "name": "python"
    }
  },
  "cells": [
    {
      "cell_type": "markdown",
      "source": [
        "# Triplet Loss\n",
        "The Triplet Loss can be expressed as:\n",
        "\n",
        "$$\\mathcal{L} = \\frac{1}{N} \\sum_{i=1}^{N} \\max\\left(0, \\|f(x_i^a) - f(x_i^p)\\|^2 - \\|f(x_i^a) - f(x_i^n)\\|^2 + \\alpha\\right)$$\n",
        "\n",
        "Where:\n",
        "- $x_i^a$ is the anchor.\n",
        "- $x_i^p$ is the positive example.\n",
        "- $x_i^n$ is the negative example.\n",
        "- $α$ is the margin.\n",
        "- $N$ is the number of triplets used in the loss calculation.\n"
      ],
      "metadata": {
        "id": "BGKWs-YnfcKa"
      }
    },
    {
      "cell_type": "markdown",
      "source": [
        "### Triplet Loss: 1 anchor - 1 sample"
      ],
      "metadata": {
        "id": "TD7BN73-uv3-"
      }
    },
    {
      "cell_type": "code",
      "source": [
        "import numpy as np\n",
        "\n",
        "def triplet_loss(anchor, positive, negative, margin=20.0):\n",
        "    \"\"\"\n",
        "    Computes the Triplet Loss.\n",
        "\n",
        "    Parameters:\n",
        "    - anchor: np.ndarray, feature vector of the anchor.\n",
        "    - positive: np.ndarray, feature vector of the positive example.\n",
        "    - negative: np.ndarray, feature vector of the negative example.\n",
        "    - margin: float, margin for calculating the loss.\n",
        "\n",
        "    Returns:\n",
        "    - loss: float, the value of the triplet loss.\n",
        "    \"\"\"\n",
        "    # Compute the squared distance between the anchor and the positive example\n",
        "    pos_dist = np.sum(np.square(anchor - positive), axis=-1)\n",
        "\n",
        "    # Compute the squared distance between the anchor and the negative example\n",
        "    neg_dist = np.sum(np.square(anchor - negative), axis=-1)\n",
        "\n",
        "    # Compute the Triplet Loss\n",
        "    loss = np.maximum(0, pos_dist - neg_dist + margin)\n",
        "\n",
        "    return loss"
      ],
      "metadata": {
        "id": "Zz7zKDRUfblA"
      },
      "execution_count": null,
      "outputs": []
    },
    {
      "cell_type": "markdown",
      "source": [
        "### Example"
      ],
      "metadata": {
        "id": "4BPkCNa6fpLM"
      }
    },
    {
      "cell_type": "code",
      "execution_count": null,
      "metadata": {
        "colab": {
          "base_uri": "https://localhost:8080/"
        },
        "id": "ebYNekg7fZDB",
        "outputId": "5cbc3ce3-d137-4fdb-8d41-01c73274f043"
      },
      "outputs": [
        {
          "output_type": "stream",
          "name": "stdout",
          "text": [
            "Triplet Loss: 88.03\n"
          ]
        }
      ],
      "source": [
        "# Example usage\n",
        "anchor = np.array([1.0, 2.0, 3.0])\n",
        "positive = np.array([1.1, 2.1, 2.9])\n",
        "negative = np.array([3.0, 4.0, 5.0])\n",
        "\n",
        "loss = triplet_loss(anchor, positive, negative)\n",
        "print(\"Triplet Loss:\", loss)"
      ]
    },
    {
      "cell_type": "markdown",
      "source": [
        "## Triplet Loss: 2 anchors - 5 samples"
      ],
      "metadata": {
        "id": "6TFPVeROvTa7"
      }
    },
    {
      "cell_type": "code",
      "source": [
        "import numpy as np\n",
        "\n",
        "def triplet_loss(anchors, positives, negatives, margin=1.0):\n",
        "    \"\"\"\n",
        "    Computes the Triplet Loss for multiple anchors, each with multiple positives and negatives.\n",
        "\n",
        "    Parameters:\n",
        "    - anchors: list of np.ndarray, list of feature vectors for anchors.\n",
        "    - positives: list of list of np.ndarray, each list contains feature vectors for positives corresponding to each anchor.\n",
        "    - negatives: list of np.ndarray, list of feature vectors for negatives.\n",
        "    - margin: float, margin for calculating the loss.\n",
        "\n",
        "    Returns:\n",
        "    - total_loss: float, the value of the triplet loss.\n",
        "    \"\"\"\n",
        "    total_loss = 0\n",
        "    num_anchors = len(anchors)\n",
        "    num_negatives = len(negatives)\n",
        "\n",
        "    for i in range(num_anchors):\n",
        "        anchor = anchors[i]\n",
        "        anchor_positives = positives[i]\n",
        "\n",
        "        for positive in anchor_positives:\n",
        "            # Compute the squared distance between the anchor and the positive example\n",
        "            pos_dist = np.sum(np.square(anchor - positive), axis=-1)\n",
        "\n",
        "            # Compute the Triplet Loss for each negative example\n",
        "            for negative in negatives:\n",
        "                neg_dist = np.sum(np.square(anchor - negative), axis=-1)\n",
        "                loss = np.maximum(0, pos_dist - neg_dist + margin)\n",
        "                total_loss += loss\n",
        "\n",
        "    # Average the loss over the number of anchor-positive-negative triplets\n",
        "    total_loss /= (num_anchors * len(anchor_positives) * num_negatives)\n",
        "\n",
        "    return total_loss"
      ],
      "metadata": {
        "id": "tI1_hI9wu-o_"
      },
      "execution_count": 3,
      "outputs": []
    },
    {
      "cell_type": "code",
      "source": [
        "# Example usage\n",
        "anchors = [\n",
        "    np.array([1.0, 2.0, 3.0]),\n",
        "    np.array([1.1, 2.1, 3.1])\n",
        "]\n",
        "\n",
        "positives = [\n",
        "    np.array([1.0, 2.1, 3.0]),\n",
        "    np.array([1.2, 2.1, 3.1]),\n",
        "    np.array([1.0, 2.0, 3.1]),\n",
        "    np.array([1.1, 2.0, 3.0]),\n",
        "    np.array([1.2, 2.2, 3.2])\n",
        "]\n",
        "\n",
        "negatives = [\n",
        "    np.array([3.0, 4.0, 5.0]),\n",
        "    np.array([1.5, 2.5, 3.5]),\n",
        "    np.array([0.5, 1.5, 2.5]),\n",
        "    np.array([2.0, 3.0, 4.0]),\n",
        "    np.array([4.0, 5.0, 6.0])\n",
        "]\n",
        "\n",
        "loss = triplet_loss(anchors, positives, negatives)\n",
        "print(\"Triplet Loss:\", loss)"
      ],
      "metadata": {
        "colab": {
          "base_uri": "https://localhost:8080/"
        },
        "id": "YC48w3jzvX8B",
        "outputId": "7664bd96-723c-4c4c-c66d-c29f96a960f1"
      },
      "execution_count": 4,
      "outputs": [
        {
          "output_type": "stream",
          "name": "stdout",
          "text": [
            "Triplet Loss: 2.0970000000000004\n"
          ]
        }
      ]
    }
  ]
}