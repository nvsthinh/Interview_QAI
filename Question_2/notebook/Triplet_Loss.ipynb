{
  "nbformat": 4,
  "nbformat_minor": 0,
  "metadata": {
    "colab": {
      "provenance": []
    },
    "kernelspec": {
      "name": "python3",
      "display_name": "Python 3"
    },
    "language_info": {
      "name": "python"
    }
  },
  "cells": [
    {
      "cell_type": "markdown",
      "source": [
        "# Triplet Loss\n",
        "The Triplet Loss can be expressed as:\n",
        "\n",
        "$$\\mathcal{L} = \\frac{1}{N} \\sum_{i=1}^{N} \\max\\left(0, \\|f(x_i^a) - f(x_i^p)\\|^2 - \\|f(x_i^a) - f(x_i^n)\\|^2 + \\alpha\\right)$$\n",
        "\n",
        "Where:\n",
        "- $x_i^a$ is the anchor.\n",
        "- $x_i^p$ is the positive example.\n",
        "- $x_i^n$ is the negative example.\n",
        "- $α$ is the margin.\n",
        "- $N$ is the number of triplets used in the loss calculation.\n"
      ],
      "metadata": {
        "id": "BGKWs-YnfcKa"
      }
    },
    {
      "cell_type": "code",
      "source": [
        "import numpy as np\n",
        "\n",
        "def triplet_loss(anchor, positive, negative, margin=20.0):\n",
        "    \"\"\"\n",
        "    Computes the Triplet Loss.\n",
        "\n",
        "    Parameters:\n",
        "    - anchor: np.ndarray, feature vector of the anchor.\n",
        "    - positive: np.ndarray, feature vector of the positive example.\n",
        "    - negative: np.ndarray, feature vector of the negative example.\n",
        "    - margin: float, margin for calculating the loss.\n",
        "\n",
        "    Returns:\n",
        "    - loss: float, the value of the triplet loss.\n",
        "    \"\"\"\n",
        "    # Compute the squared distance between the anchor and the positive example\n",
        "    pos_dist = np.sum(np.square(anchor - positive), axis=-1)\n",
        "\n",
        "    # Compute the squared distance between the anchor and the negative example\n",
        "    neg_dist = np.sum(np.square(anchor - negative), axis=-1)\n",
        "\n",
        "    # Compute the Triplet Loss\n",
        "    loss = np.maximum(0, pos_dist - neg_dist + margin)\n",
        "\n",
        "    return loss"
      ],
      "metadata": {
        "id": "Zz7zKDRUfblA"
      },
      "execution_count": 9,
      "outputs": []
    },
    {
      "cell_type": "markdown",
      "source": [
        "## Example"
      ],
      "metadata": {
        "id": "4BPkCNa6fpLM"
      }
    },
    {
      "cell_type": "code",
      "execution_count": 8,
      "metadata": {
        "colab": {
          "base_uri": "https://localhost:8080/"
        },
        "id": "ebYNekg7fZDB",
        "outputId": "5cbc3ce3-d137-4fdb-8d41-01c73274f043"
      },
      "outputs": [
        {
          "output_type": "stream",
          "name": "stdout",
          "text": [
            "Triplet Loss: 88.03\n"
          ]
        }
      ],
      "source": [
        "# Example usage\n",
        "anchor = np.array([1.0, 2.0, 3.0])\n",
        "positive = np.array([1.1, 2.1, 2.9])\n",
        "negative = np.array([3.0, 4.0, 5.0])\n",
        "\n",
        "loss = triplet_loss(anchor, positive, negative)\n",
        "print(\"Triplet Loss:\", loss)"
      ]
    }
  ]
}