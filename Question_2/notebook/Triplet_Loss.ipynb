{
  "cells": [
    {
      "cell_type": "markdown",
      "metadata": {
        "id": "BGKWs-YnfcKa"
      },
      "source": [
        "# Triplet Loss\n",
        "The Triplet Loss can be expressed as:\n",
        "\n",
        "$$\\mathcal{L} = \\frac{1}{N} \\sum_{i=1}^{N} \\max\\left(0, \\|f(x_i^a) - f(x_i^p)\\|^2 - \\|f(x_i^a) - f(x_i^n)\\|^2 + \\alpha\\right)$$\n",
        "\n",
        "Where:\n",
        "- $x_i^a$ is the anchor.\n",
        "- $x_i^p$ is the positive example.\n",
        "- $x_i^n$ is the negative example.\n",
        "- $α$ is the margin.\n",
        "- $N$ is the number of triplets used in the loss calculation.\n"
      ]
    },
    {
      "cell_type": "markdown",
      "metadata": {
        "id": "TD7BN73-uv3-"
      },
      "source": [
        "### Triplet Loss: 1 anchor - 1 sample"
      ]
    },
    {
      "cell_type": "code",
      "execution_count": 1,
      "metadata": {
        "id": "Zz7zKDRUfblA"
      },
      "outputs": [],
      "source": [
        "import numpy as np\n",
        "\n",
        "def triplet_loss_one_sample(anchor, positive, negative, margin=20.0):\n",
        "    \"\"\"\n",
        "    Computes the Triplet Loss.\n",
        "\n",
        "    Parameters:\n",
        "    - anchor: np.ndarray, feature vector of the anchor.\n",
        "    - positive: np.ndarray, feature vector of the positive example.\n",
        "    - negative: np.ndarray, feature vector of the negative example.\n",
        "    - margin: float, margin for calculating the loss.\n",
        "\n",
        "    Returns:\n",
        "    - loss: float, the value of the triplet loss.\n",
        "    \"\"\"\n",
        "    # Compute the squared distance between the anchor and the positive example\n",
        "    pos_dist = np.sum(np.square(anchor - positive), axis=-1)\n",
        "\n",
        "    # Compute the squared distance between the anchor and the negative example\n",
        "    neg_dist = np.sum(np.square(anchor - negative), axis=-1)\n",
        "\n",
        "    # Compute the Triplet Loss\n",
        "    loss = np.maximum(0, pos_dist - neg_dist + margin)\n",
        "\n",
        "    return loss"
      ]
    },
    {
      "cell_type": "markdown",
      "metadata": {
        "id": "4BPkCNa6fpLM"
      },
      "source": [
        "### Example"
      ]
    },
    {
      "cell_type": "code",
      "execution_count": 2,
      "metadata": {
        "colab": {
          "base_uri": "https://localhost:8080/"
        },
        "id": "ebYNekg7fZDB",
        "outputId": "5cbc3ce3-d137-4fdb-8d41-01c73274f043"
      },
      "outputs": [
        {
          "name": "stdout",
          "output_type": "stream",
          "text": [
            "Triplet Loss: 8.03\n"
          ]
        }
      ],
      "source": [
        "# Example usage\n",
        "anchor = np.array([1.0, 2.0, 3.0])\n",
        "positive = np.array([1.1, 2.1, 2.9])\n",
        "negative = np.array([3.0, 4.0, 5.0])\n",
        "\n",
        "loss = triplet_loss(anchor, positive, negative)\n",
        "print(\"Triplet Loss:\", loss)"
      ]
    },
    {
      "cell_type": "markdown",
      "metadata": {
        "id": "6TFPVeROvTa7"
      },
      "source": [
        "## Triplet Loss: 2 anchors - 5 samples"
      ]
    },
    {
      "cell_type": "markdown",
      "metadata": {},
      "source": [
        "The Triplet Loss can be expressed as:\n",
        "$$\\mathcal{L} = \\frac{1}{A} \\sum_{i=1}^{N} \\max\\left(0, \\frac{1}{P} \\sum_{p\\in P}\\|f(x_i^a) - f(x_i^p)\\|^2 - \\frac{1}{N}\\sum_{n\\in N} \\|f(x_i^a) - f(x_i^n)\\|^2 + \\alpha\\right)$$\n",
        "Where:\n",
        "- $x_i^a$ is the anchor.\n",
        "- $x_i^p$ is the positive example.\n",
        "- $x_i^n$ is the negative example.\n",
        "- $α$ is the margin.\n",
        "- $P$ is number of positive samples.\n",
        "- $N$ is number of negative samples.\n",
        "- $A$ is the number of triplets used in the loss calculation."
      ]
    },
    {
      "cell_type": "code",
      "execution_count": 6,
      "metadata": {
        "id": "tI1_hI9wu-o_"
      },
      "outputs": [],
      "source": [
        "import numpy as np\n",
        "\n",
        "def triplet_loss_multi_samples(anchor, positives, negatives, margin=0.2):\n",
        "    \"\"\"\n",
        "    Compute the Triplet Loss for multiple positives and negatives.\n",
        "\n",
        "    Arguments:\n",
        "    anchor -- numpy array of shape (m, n), embeddings for the anchor images\n",
        "    positives -- numpy array of shape (m, k, n), embeddings for the positive images\n",
        "    negatives -- numpy array of shape (m, l, n), embeddings for the negative images\n",
        "    alpha -- margin\n",
        "\n",
        "    Returns:\n",
        "    loss -- float, the value of the triplet loss.\n",
        "    \"\"\"\n",
        "    # Compute the L2 distance between anchor and all positives, then average\n",
        "    pos_dist = np.mean(np.sum(np.square(anchor[:, np.newaxis, :] - positives), axis=2), axis=1)\n",
        "\n",
        "    # Compute the L2 distance between anchor and all negatives, then average\n",
        "    neg_dist = np.mean(np.sum(np.square(anchor[:, np.newaxis, :] - negatives), axis=2), axis=1)\n",
        "\n",
        "    # Compute the triplet loss\n",
        "    loss = np.maximum(0, pos_dist - neg_dist + margin)\n",
        "\n",
        "    return np.mean(loss)"
      ]
    },
    {
      "cell_type": "code",
      "execution_count": 10,
      "metadata": {
        "colab": {
          "base_uri": "https://localhost:8080/"
        },
        "id": "YC48w3jzvX8B",
        "outputId": "7664bd96-723c-4c4c-c66d-c29f96a960f1"
      },
      "outputs": [
        {
          "name": "stdout",
          "output_type": "stream",
          "text": [
            "Triplet Loss: 0.08075000000000002\n"
          ]
        }
      ],
      "source": [
        "# Example usage\n",
        "anchors = np.array([[0.4, 0.3], [0.3, 0.8]])\n",
        "positives = np.array([[[0.4, 0.2], [0.45, 0.15]], [[0.3, 0.5], [0.35, 0.45]]])\n",
        "negatives = np.array([[[0.6, 0.9], [0.7, 0.8], [0.65, 0.85], [0.75, 0.75], [0.8, 0.7]], \n",
        "                      [[0.6, 0.9], [0.10, 0.8], [0.65, 0.85], [0.75, 0.75], [0.8, 0.7]]])\n",
        "loss = triplet_loss_multi_samples(anchors, positives, negatives)\n",
        "print(\"Triplet Loss:\", loss)"
      ]
    }
  ],
  "metadata": {
    "colab": {
      "provenance": []
    },
    "kernelspec": {
      "display_name": "Python 3",
      "name": "python3"
    },
    "language_info": {
      "codemirror_mode": {
        "name": "ipython",
        "version": 3
      },
      "file_extension": ".py",
      "mimetype": "text/x-python",
      "name": "python",
      "nbconvert_exporter": "python",
      "pygments_lexer": "ipython3",
      "version": "3.11.2"
    }
  },
  "nbformat": 4,
  "nbformat_minor": 0
}
